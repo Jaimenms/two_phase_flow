{
 "cells": [
  {
   "cell_type": "markdown",
   "id": "ca19c52d",
   "metadata": {},
   "source": [
    "# Two-phase flow model with finite difference discretization"
   ]
  },
  {
   "cell_type": "markdown",
   "id": "ff494139",
   "metadata": {},
   "source": [
    "Reading packages"
   ]
  },
  {
   "cell_type": "code",
   "execution_count": 1,
   "id": "a1954f92",
   "metadata": {
    "ExecuteTime": {
     "end_time": "2021-04-19T12:54:14.500606Z",
     "start_time": "2021-04-19T12:54:13.882168Z"
    }
   },
   "outputs": [],
   "source": [
    "from sympy import Symbol, Function, sin, Eq, simplify, expand, factor, collect, solve, differentiate_finite"
   ]
  },
  {
   "cell_type": "markdown",
   "id": "23160489",
   "metadata": {},
   "source": [
    "Defining Coordinates"
   ]
  },
  {
   "cell_type": "code",
   "execution_count": 43,
   "id": "735fb7c8",
   "metadata": {
    "ExecuteTime": {
     "end_time": "2021-04-19T16:08:45.148882Z",
     "start_time": "2021-04-19T16:08:45.143445Z"
    }
   },
   "outputs": [],
   "source": [
    "t = Symbol('t')\n",
    "ti = Symbol('t_i')\n",
    "tip1 = Symbol('t_i+1')\n",
    "tim1 = Symbol('t_i-1')\n",
    "\n",
    "x = Symbol('x')\n",
    "x0 = Symbol('x_0')\n",
    "x1 = Symbol('x_1')\n",
    "xNm1 = Symbol('x_N-1')\n",
    "xN = Symbol('x_N')\n",
    "xj = Symbol('x_j')\n",
    "xjm1 = Symbol('x_j-1')\n",
    "xjp1 = Symbol('x_j+1')"
   ]
  },
  {
   "cell_type": "markdown",
   "id": "9e52e7c9",
   "metadata": {},
   "source": [
    "Defining state Variables"
   ]
  },
  {
   "cell_type": "code",
   "execution_count": 36,
   "id": "71e7f1fe",
   "metadata": {
    "ExecuteTime": {
     "end_time": "2021-04-19T13:09:05.081587Z",
     "start_time": "2021-04-19T13:09:05.077294Z"
    }
   },
   "outputs": [],
   "source": [
    "alphaL = Function('alpha_L')\n",
    "alphaG = Function('alpha_G')\n",
    "P = Function('P')\n",
    "qL = Function('q_L')\n",
    "qG = Function('q_G')"
   ]
  },
  {
   "cell_type": "markdown",
   "id": "af001cc0",
   "metadata": {},
   "source": [
    "Defining Parameters"
   ]
  },
  {
   "cell_type": "code",
   "execution_count": 4,
   "id": "addfb0f5",
   "metadata": {
    "ExecuteTime": {
     "end_time": "2021-04-19T12:54:14.522078Z",
     "start_time": "2021-04-19T12:54:14.519125Z"
    }
   },
   "outputs": [],
   "source": [
    "A = Symbol('A')\n",
    "g = Symbol('g')\n",
    "theta = Symbol('theta')"
   ]
  },
  {
   "cell_type": "markdown",
   "id": "f2bc2639",
   "metadata": {},
   "source": [
    "Defining auxiliar symbols"
   ]
  },
  {
   "cell_type": "code",
   "execution_count": 5,
   "id": "6550240b",
   "metadata": {
    "ExecuteTime": {
     "end_time": "2021-04-19T12:54:14.530589Z",
     "start_time": "2021-04-19T12:54:14.524116Z"
    }
   },
   "outputs": [],
   "source": [
    "rhoL = Function('rho_L')\n",
    "rhoG = Function('rho_G')\n",
    "vL = Function('v_L')\n",
    "vG = Function('v_G')\n",
    "dPL = Function('\\Delta P_L')\n",
    "dPG = Function('\\Delta P_G')\n",
    "sourceL = Function('S_L')\n",
    "sourceG = Function('S_G')"
   ]
  },
  {
   "cell_type": "markdown",
   "id": "3c0a369f",
   "metadata": {},
   "source": [
    "Auxiliar functions"
   ]
  },
  {
   "cell_type": "markdown",
   "id": "e86c81d1",
   "metadata": {
    "ExecuteTime": {
     "end_time": "2021-04-19T12:52:14.561791Z",
     "start_time": "2021-04-19T12:52:14.558521Z"
    }
   },
   "source": [
    "## Dynamic Model"
   ]
  },
  {
   "cell_type": "markdown",
   "id": "3f10f756",
   "metadata": {
    "ExecuteTime": {
     "end_time": "2021-04-19T10:53:13.698072Z",
     "start_time": "2021-04-19T10:53:13.694930Z"
    }
   },
   "source": [
    "### Mass balance for liquid phase"
   ]
  },
  {
   "cell_type": "code",
   "execution_count": 34,
   "id": "3f95828c",
   "metadata": {
    "ExecuteTime": {
     "end_time": "2021-04-19T13:08:48.288934Z",
     "start_time": "2021-04-19T13:08:48.027842Z"
    }
   },
   "outputs": [
    {
     "name": "stdout",
     "output_type": "stream",
     "text": [
      "Mass Balance L\n"
     ]
    },
    {
     "data": {
      "text/latex": [
       "$\\displaystyle \\frac{\\alpha_{L}{\\left(t_{i},x_{j} \\right)} \\rho_{L}{\\left(t_{i},x_{j} \\right)} - \\alpha_{L}{\\left(t_{i+1},x_{j} \\right)} \\rho_{L}{\\left(t_{i+1},x_{j} \\right)}}{t_{i} - t_{i+1}} = \\frac{- \\operatorname{q_{L}}{\\left(t_{i},x_{j+1} \\right)} + \\operatorname{q_{L}}{\\left(t_{i},x_{j-1} \\right)} - \\operatorname{q_{L}}{\\left(t_{i+1},x_{j+1} \\right)} + \\operatorname{q_{L}}{\\left(t_{i+1},x_{j-1} \\right)}}{2 A \\left(x_{j+1} - x_{j-1}\\right)}$"
      ],
      "text/plain": [
       "Eq((alpha_L(t_i, x_j)*rho_L(t_i, x_j) - alpha_L(t_i+1, x_j)*rho_L(t_i+1, x_j))/(t_i - t_i+1), (-q_L(t_i, x_j+1) + q_L(t_i, x_j-1) - q_L(t_i+1, x_j+1) + q_L(t_i+1, x_j-1))/(2*A*(x_j+1 - x_j-1)))"
      ]
     },
     "execution_count": 34,
     "metadata": {},
     "output_type": "execute_result"
    }
   ],
   "source": [
    "print(\"Mass Balance L\")\n",
    "BMA_L = Eq(\n",
    "    differentiate_finite(rhoL(t,xj)*alphaL(t,xj), t, points=[ti, tip1]),\n",
    "    - 1/(2*A) * (\n",
    "        differentiate_finite(qL(ti,x), x, points=[xjm1, xjp1]) +\n",
    "        differentiate_finite(qL(tip1,x), x, points=[xjm1, xjp1])\n",
    "    )\n",
    ")\n",
    "BMA_L = simplify(BMA_L)\n",
    "BMA_L.doit()"
   ]
  },
  {
   "cell_type": "markdown",
   "id": "7b325d47",
   "metadata": {
    "ExecuteTime": {
     "end_time": "2021-04-19T10:53:13.698072Z",
     "start_time": "2021-04-19T10:53:13.694930Z"
    }
   },
   "source": [
    "### Mass balance for gas phase"
   ]
  },
  {
   "cell_type": "code",
   "execution_count": 37,
   "id": "33b5d1fb",
   "metadata": {
    "ExecuteTime": {
     "end_time": "2021-04-19T13:09:08.719993Z",
     "start_time": "2021-04-19T13:09:08.371820Z"
    }
   },
   "outputs": [
    {
     "name": "stdout",
     "output_type": "stream",
     "text": [
      "Mass Balance G\n"
     ]
    },
    {
     "data": {
      "text/latex": [
       "$\\displaystyle \\frac{\\alpha_{G}{\\left(t_{i},x_{j} \\right)} \\rho_{G}{\\left(t_{i},x_{j} \\right)} - \\alpha_{G}{\\left(t_{i+1},x_{j} \\right)} \\rho_{G}{\\left(t_{i+1},x_{j} \\right)}}{t_{i} - t_{i+1}} = \\frac{- \\operatorname{q_{G}}{\\left(t_{i},x_{j+1} \\right)} + \\operatorname{q_{G}}{\\left(t_{i},x_{j-1} \\right)} - \\operatorname{q_{G}}{\\left(t_{i+1},x_{j+1} \\right)} + \\operatorname{q_{G}}{\\left(t_{i+1},x_{j-1} \\right)}}{2 A \\left(x_{j+1} - x_{j-1}\\right)}$"
      ],
      "text/plain": [
       "Eq((alpha_G(t_i, x_j)*rho_G(t_i, x_j) - alpha_G(t_i+1, x_j)*rho_G(t_i+1, x_j))/(t_i - t_i+1), (-q_G(t_i, x_j+1) + q_G(t_i, x_j-1) - q_G(t_i+1, x_j+1) + q_G(t_i+1, x_j-1))/(2*A*(x_j+1 - x_j-1)))"
      ]
     },
     "execution_count": 37,
     "metadata": {},
     "output_type": "execute_result"
    }
   ],
   "source": [
    "print(\"Mass Balance G\")\n",
    "BMA_G = Eq(\n",
    "    differentiate_finite(rhoG(t,xj)*alphaG(t,xj), t, points=[ti, tip1]),\n",
    "    - 1/(2*A) * (\n",
    "        differentiate_finite(qG(ti,x), x, points=[xjm1, xjp1]) +\n",
    "        differentiate_finite(qG(tip1,x), x, points=[xjm1, xjp1])\n",
    "    )\n",
    ")\n",
    "BMA_G = simplify(BMA_G)\n",
    "BMA_G.doit()"
   ]
  },
  {
   "cell_type": "markdown",
   "id": "6423b0c4",
   "metadata": {},
   "source": [
    "### Momentum Balance for Liquid Phase"
   ]
  },
  {
   "cell_type": "code",
   "execution_count": 41,
   "id": "69d10246",
   "metadata": {
    "ExecuteTime": {
     "end_time": "2021-04-19T13:13:12.522111Z",
     "start_time": "2021-04-19T13:13:11.705301Z"
    }
   },
   "outputs": [
    {
     "data": {
      "text/latex": [
       "$\\displaystyle \\frac{\\operatorname{q_{L}}{\\left(t_{i},x_{j} \\right)} - \\operatorname{q_{L}}{\\left(t_{i+1},x_{j} \\right)}}{t_{i} - t_{i+1}} = \\frac{A \\left(2 \\left(x_{j+1} - x_{j-1}\\right) \\operatorname{S_{L}}{\\left(t_{i},x_{j} \\right)} - \\left(P{\\left(t_{i},x_{j+1} \\right)} - P{\\left(t_{i},x_{j-1} \\right)} + P{\\left(t_{i+1},x_{j+1} \\right)} - P{\\left(t_{i+1},x_{j-1} \\right)}\\right) \\alpha_{L}{\\left(t_{i},x_{j} \\right)} - \\left(\\alpha_{L}{\\left(t_{i},x_{j+1} \\right)} - \\alpha_{L}{\\left(t_{i},x_{j-1} \\right)} + \\alpha_{L}{\\left(t_{i+1},x_{j+1} \\right)} - \\alpha_{L}{\\left(t_{i+1},x_{j-1} \\right)}\\right) \\Delta P_{L}{\\left(t_{i},x_{j} \\right)} - \\alpha_{L}{\\left(t_{i},x_{j+1} \\right)} \\rho_{L}{\\left(t_{i},x_{j+1} \\right)} \\operatorname{v_{L}}^{2}{\\left(t_{i},x_{j+1} \\right)} + \\alpha_{L}{\\left(t_{i},x_{j-1} \\right)} \\rho_{L}{\\left(t_{i},x_{j-1} \\right)} \\operatorname{v_{L}}^{2}{\\left(t_{i},x_{j-1} \\right)} - \\alpha_{L}{\\left(t_{i+1},x_{j+1} \\right)} \\rho_{L}{\\left(t_{i+1},x_{j+1} \\right)} \\operatorname{v_{L}}^{2}{\\left(t_{i+1},x_{j+1} \\right)} + \\alpha_{L}{\\left(t_{i+1},x_{j-1} \\right)} \\rho_{L}{\\left(t_{i+1},x_{j-1} \\right)} \\operatorname{v_{L}}^{2}{\\left(t_{i+1},x_{j-1} \\right)}\\right)}{2 \\left(x_{j+1} - x_{j-1}\\right)}$"
      ],
      "text/plain": [
       "Eq((q_L(t_i, x_j) - q_L(t_i+1, x_j))/(t_i - t_i+1), A*(2*(x_j+1 - x_j-1)*S_L(t_i, x_j) - (P(t_i, x_j+1) - P(t_i, x_j-1) + P(t_i+1, x_j+1) - P(t_i+1, x_j-1))*alpha_L(t_i, x_j) - (alpha_L(t_i, x_j+1) - alpha_L(t_i, x_j-1) + alpha_L(t_i+1, x_j+1) - alpha_L(t_i+1, x_j-1))*\\Delta P_L(t_i, x_j) - alpha_L(t_i, x_j+1)*rho_L(t_i, x_j+1)*v_L(t_i, x_j+1)**2 + alpha_L(t_i, x_j-1)*rho_L(t_i, x_j-1)*v_L(t_i, x_j-1)**2 - alpha_L(t_i+1, x_j+1)*rho_L(t_i+1, x_j+1)*v_L(t_i+1, x_j+1)**2 + alpha_L(t_i+1, x_j-1)*rho_L(t_i+1, x_j-1)*v_L(t_i+1, x_j-1)**2)/(2*(x_j+1 - x_j-1)))"
      ]
     },
     "execution_count": 41,
     "metadata": {},
     "output_type": "execute_result"
    }
   ],
   "source": [
    "BMM_L = Eq(\n",
    "    differentiate_finite(qL(t,xj), t, points=[ti, tip1]), \n",
    "    - A / 2 * alphaL(ti,xj) * (\n",
    "        differentiate_finite(P(ti,x), x, points=[xjm1, xjp1]) +\n",
    "        differentiate_finite(P(tip1,x), x, points=[xjm1, xjp1])\n",
    "    )\n",
    "    - A / 2 * dPL(ti,xj) * (\n",
    "        differentiate_finite(alphaL(ti,x), x, points=[xjm1, xjp1]) +\n",
    "        differentiate_finite(alphaL(tip1,x), x, points=[xjm1, xjp1])\n",
    "    )\n",
    "    - A /2 * (\n",
    "        differentiate_finite(alphaL(ti,x)*(vL(ti,x))**2*rhoL(ti,x), x, points=[xjm1, xjp1]) +\n",
    "        differentiate_finite(alphaL(tip1,x)*(vL(tip1,x))**2*rhoL(tip1,x), x, points=[xjm1, xjp1])\n",
    "    )\n",
    "    + A * sourceL(ti,xj)\n",
    ")\n",
    "BMM_L = simplify(BMM_L)\n",
    "BMM_L.doit()"
   ]
  },
  {
   "cell_type": "markdown",
   "id": "4cd8dde6",
   "metadata": {},
   "source": [
    "### Momentum Balance for Gas Phase"
   ]
  },
  {
   "cell_type": "code",
   "execution_count": 42,
   "id": "a6cf0945",
   "metadata": {
    "ExecuteTime": {
     "end_time": "2021-04-19T13:13:58.036184Z",
     "start_time": "2021-04-19T13:13:57.119491Z"
    }
   },
   "outputs": [
    {
     "data": {
      "text/latex": [
       "$\\displaystyle \\frac{\\operatorname{q_{G}}{\\left(t_{i},x_{j} \\right)} - \\operatorname{q_{G}}{\\left(t_{i+1},x_{j} \\right)}}{t_{i} - t_{i+1}} = \\frac{A \\left(2 \\left(x_{j+1} - x_{j-1}\\right) \\operatorname{S_{G}}{\\left(t_{i},x_{j} \\right)} - \\left(P{\\left(t_{i},x_{j+1} \\right)} - P{\\left(t_{i},x_{j-1} \\right)} + P{\\left(t_{i+1},x_{j+1} \\right)} - P{\\left(t_{i+1},x_{j-1} \\right)}\\right) \\alpha_{G}{\\left(t_{i},x_{j} \\right)} - \\left(\\alpha_{G}{\\left(t_{i},x_{j+1} \\right)} - \\alpha_{G}{\\left(t_{i},x_{j-1} \\right)} + \\alpha_{G}{\\left(t_{i+1},x_{j+1} \\right)} - \\alpha_{G}{\\left(t_{i+1},x_{j-1} \\right)}\\right) \\Delta P_{G}{\\left(t_{i},x_{j} \\right)} - \\alpha_{G}{\\left(t_{i},x_{j+1} \\right)} \\rho_{G}{\\left(t_{i},x_{j+1} \\right)} \\operatorname{v_{G}}^{2}{\\left(t_{i},x_{j+1} \\right)} + \\alpha_{G}{\\left(t_{i},x_{j-1} \\right)} \\rho_{G}{\\left(t_{i},x_{j-1} \\right)} \\operatorname{v_{G}}^{2}{\\left(t_{i},x_{j-1} \\right)} - \\alpha_{G}{\\left(t_{i+1},x_{j+1} \\right)} \\rho_{G}{\\left(t_{i+1},x_{j+1} \\right)} \\operatorname{v_{G}}^{2}{\\left(t_{i+1},x_{j+1} \\right)} + \\alpha_{G}{\\left(t_{i+1},x_{j-1} \\right)} \\rho_{G}{\\left(t_{i+1},x_{j-1} \\right)} \\operatorname{v_{G}}^{2}{\\left(t_{i+1},x_{j-1} \\right)}\\right)}{2 \\left(x_{j+1} - x_{j-1}\\right)}$"
      ],
      "text/plain": [
       "Eq((q_G(t_i, x_j) - q_G(t_i+1, x_j))/(t_i - t_i+1), A*(2*(x_j+1 - x_j-1)*S_G(t_i, x_j) - (P(t_i, x_j+1) - P(t_i, x_j-1) + P(t_i+1, x_j+1) - P(t_i+1, x_j-1))*alpha_G(t_i, x_j) - (alpha_G(t_i, x_j+1) - alpha_G(t_i, x_j-1) + alpha_G(t_i+1, x_j+1) - alpha_G(t_i+1, x_j-1))*\\Delta P_G(t_i, x_j) - alpha_G(t_i, x_j+1)*rho_G(t_i, x_j+1)*v_G(t_i, x_j+1)**2 + alpha_G(t_i, x_j-1)*rho_G(t_i, x_j-1)*v_G(t_i, x_j-1)**2 - alpha_G(t_i+1, x_j+1)*rho_G(t_i+1, x_j+1)*v_G(t_i+1, x_j+1)**2 + alpha_G(t_i+1, x_j-1)*rho_G(t_i+1, x_j-1)*v_G(t_i+1, x_j-1)**2)/(2*(x_j+1 - x_j-1)))"
      ]
     },
     "execution_count": 42,
     "metadata": {},
     "output_type": "execute_result"
    }
   ],
   "source": [
    "BMM_G = Eq(\n",
    "    differentiate_finite(qG(t,xj), t, points=[ti, tip1]), \n",
    "    - A / 2 * alphaG(ti,xj) * (\n",
    "        differentiate_finite(P(ti,x), x, points=[xjm1, xjp1]) +\n",
    "        differentiate_finite(P(tip1,x), x, points=[xjm1, xjp1])\n",
    "    )\n",
    "    - A / 2 * dPG(ti,xj) * (\n",
    "        differentiate_finite(alphaG(ti,x), x, points=[xjm1, xjp1]) +\n",
    "        differentiate_finite(alphaG(tip1,x), x, points=[xjm1, xjp1])\n",
    "    )\n",
    "    - A /2 * (\n",
    "        differentiate_finite(alphaG(ti,x)*(vG(ti,x))**2*rhoG(ti,x), x, points=[xjm1, xjp1]) +\n",
    "        differentiate_finite(alphaG(tip1,x)*(vG(tip1,x))**2*rhoG(tip1,x), x, points=[xjm1, xjp1])\n",
    "    )\n",
    "    + A * sourceG(ti,xj)\n",
    ")\n",
    "BMM_G = simplify(BMM_G)\n",
    "BMM_G.doit()"
   ]
  },
  {
   "cell_type": "markdown",
   "id": "b27d2f65",
   "metadata": {
    "ExecuteTime": {
     "end_time": "2021-04-19T12:52:14.561791Z",
     "start_time": "2021-04-19T12:52:14.558521Z"
    }
   },
   "source": [
    "## Steady-State Model"
   ]
  },
  {
   "cell_type": "markdown",
   "id": "9a146d8e",
   "metadata": {
    "ExecuteTime": {
     "end_time": "2021-04-19T10:53:13.698072Z",
     "start_time": "2021-04-19T10:53:13.694930Z"
    }
   },
   "source": [
    "### Mass balance for liquid phase"
   ]
  },
  {
   "cell_type": "code",
   "execution_count": 22,
   "id": "b3693c35",
   "metadata": {
    "ExecuteTime": {
     "end_time": "2021-04-19T13:02:23.315850Z",
     "start_time": "2021-04-19T13:02:23.305807Z"
    }
   },
   "outputs": [
    {
     "name": "stdout",
     "output_type": "stream",
     "text": [
      "Mass Balance L\n"
     ]
    },
    {
     "data": {
      "text/latex": [
       "$\\displaystyle \\operatorname{q_{L}}{\\left(0,x_{j-1} \\right)} = \\operatorname{q_{L}}{\\left(0,x_{j+1} \\right)}$"
      ],
      "text/plain": [
       "Eq(q_L(0, x_j-1), q_L(0, x_j+1))"
      ]
     },
     "execution_count": 22,
     "metadata": {},
     "output_type": "execute_result"
    }
   ],
   "source": [
    "print(\"Mass Balance L\")\n",
    "BMA_L = Eq( qL(0,xjm1) , qL(0,xjp1) )\n",
    "BMA_L.doit()"
   ]
  },
  {
   "cell_type": "code",
   "execution_count": 48,
   "id": "c324aa64",
   "metadata": {
    "ExecuteTime": {
     "end_time": "2021-04-19T16:10:21.310369Z",
     "start_time": "2021-04-19T16:10:21.303421Z"
    }
   },
   "outputs": [
    {
     "name": "stdout",
     "output_type": "stream",
     "text": [
      "For j=0\n"
     ]
    },
    {
     "data": {
      "text/latex": [
       "$\\displaystyle \\operatorname{q_{L}}{\\left(0,x_{0} \\right)} = \\operatorname{q_{L}}{\\left(0,x_{1} \\right)}$"
      ],
      "text/plain": [
       "Eq(q_L(0, x_0), q_L(0, x_1))"
      ]
     },
     "execution_count": 48,
     "metadata": {},
     "output_type": "execute_result"
    }
   ],
   "source": [
    "print(\"For j=0\")\n",
    "BMA_L0 = Eq( qL(0,x0) , qL(0,x1) )\n",
    "BMA_L0.doit()"
   ]
  },
  {
   "cell_type": "code",
   "execution_count": 47,
   "id": "f013a515",
   "metadata": {
    "ExecuteTime": {
     "end_time": "2021-04-19T16:10:18.898148Z",
     "start_time": "2021-04-19T16:10:18.887967Z"
    }
   },
   "outputs": [
    {
     "name": "stdout",
     "output_type": "stream",
     "text": [
      "For j=N\n"
     ]
    },
    {
     "data": {
      "text/latex": [
       "$\\displaystyle \\operatorname{q_{L}}{\\left(0,x_{N-1} \\right)} = \\operatorname{q_{L}}{\\left(0,x_{N} \\right)}$"
      ],
      "text/plain": [
       "Eq(q_L(0, x_N-1), q_L(0, x_N))"
      ]
     },
     "execution_count": 47,
     "metadata": {},
     "output_type": "execute_result"
    }
   ],
   "source": [
    "print(\"For j=N\")\n",
    "BMA_LN = Eq( qL(0,xNm1) , qL(0,xN) )\n",
    "BMA_LN.doit()"
   ]
  },
  {
   "cell_type": "markdown",
   "id": "9245e95d",
   "metadata": {
    "ExecuteTime": {
     "end_time": "2021-04-19T11:05:06.457079Z",
     "start_time": "2021-04-19T11:05:06.453383Z"
    }
   },
   "source": [
    "### Mass balance for gas phase"
   ]
  },
  {
   "cell_type": "code",
   "execution_count": 45,
   "id": "bc774746",
   "metadata": {
    "ExecuteTime": {
     "end_time": "2021-04-19T16:09:22.293194Z",
     "start_time": "2021-04-19T16:09:22.285996Z"
    }
   },
   "outputs": [
    {
     "name": "stdout",
     "output_type": "stream",
     "text": [
      "For N=0\n"
     ]
    },
    {
     "data": {
      "text/latex": [
       "$\\displaystyle \\operatorname{q_{G}}{\\left(0,x_{0} \\right)} = \\operatorname{q_{G}}{\\left(0,x_{1} \\right)}$"
      ],
      "text/plain": [
       "Eq(q_G(0, x_0), q_G(0, x_1))"
      ]
     },
     "execution_count": 45,
     "metadata": {},
     "output_type": "execute_result"
    }
   ],
   "source": [
    "print(\"For j=0\")\n",
    "BMA_G0 = Eq( qG(0,x0) , qG(0,x1) )\n",
    "BMA_G0.doit()"
   ]
  },
  {
   "cell_type": "code",
   "execution_count": 50,
   "id": "477a84d3",
   "metadata": {
    "ExecuteTime": {
     "end_time": "2021-04-19T16:11:22.183759Z",
     "start_time": "2021-04-19T16:11:22.175022Z"
    }
   },
   "outputs": [
    {
     "name": "stdout",
     "output_type": "stream",
     "text": [
      "For 0<j<N\n"
     ]
    },
    {
     "data": {
      "text/latex": [
       "$\\displaystyle \\operatorname{q_{G}}{\\left(0,x_{j-1} \\right)} = \\operatorname{q_{G}}{\\left(0,x_{j+1} \\right)}$"
      ],
      "text/plain": [
       "Eq(q_G(0, x_j-1), q_G(0, x_j+1))"
      ]
     },
     "execution_count": 50,
     "metadata": {},
     "output_type": "execute_result"
    }
   ],
   "source": [
    "print(\"For 0<j<N\")\n",
    "BMA_G = Eq( qG(0,xjm1) , qG(0,xjp1) )\n",
    "BMA_G.doit()"
   ]
  },
  {
   "cell_type": "code",
   "execution_count": 51,
   "id": "fd4c208b",
   "metadata": {
    "ExecuteTime": {
     "end_time": "2021-04-19T16:11:25.868783Z",
     "start_time": "2021-04-19T16:11:25.862457Z"
    }
   },
   "outputs": [
    {
     "name": "stdout",
     "output_type": "stream",
     "text": [
      "For j=N\n"
     ]
    },
    {
     "data": {
      "text/latex": [
       "$\\displaystyle \\operatorname{q_{G}}{\\left(0,x_{N-1} \\right)} = \\operatorname{q_{G}}{\\left(0,x_{N} \\right)}$"
      ],
      "text/plain": [
       "Eq(q_G(0, x_N-1), q_G(0, x_N))"
      ]
     },
     "execution_count": 51,
     "metadata": {},
     "output_type": "execute_result"
    }
   ],
   "source": [
    "print(\"For j=N\")\n",
    "BMA_GN = Eq( qG(0,xNm1) , qG(0,xN) )\n",
    "BMA_GN.doit()"
   ]
  },
  {
   "cell_type": "markdown",
   "id": "37d0c6ce",
   "metadata": {},
   "source": [
    "### Momentum Balance for Liquid Phase"
   ]
  },
  {
   "cell_type": "code",
   "execution_count": 52,
   "id": "083680d1",
   "metadata": {
    "ExecuteTime": {
     "end_time": "2021-04-19T16:13:50.056320Z",
     "start_time": "2021-04-19T16:13:49.694023Z"
    }
   },
   "outputs": [
    {
     "name": "stdout",
     "output_type": "stream",
     "text": [
      "For j=0\n"
     ]
    },
    {
     "data": {
      "text/latex": [
       "$\\displaystyle \\operatorname{S_{L}}{\\left(0,x_{0} \\right)} = \\frac{\\left(P{\\left(0,x_{0} \\right)} - P{\\left(0,x_{1} \\right)}\\right) \\alpha_{L}{\\left(0,x_{0} \\right)} + \\left(\\alpha_{L}{\\left(0,x_{0} \\right)} - \\alpha_{L}{\\left(0,x_{1} \\right)}\\right) \\Delta P_{L}{\\left(0,x_{0} \\right)} + \\alpha_{L}{\\left(0,x_{0} \\right)} \\rho_{L}{\\left(0,x_{0} \\right)} \\operatorname{v_{L}}^{2}{\\left(0,x_{0} \\right)} - \\alpha_{L}{\\left(0,x_{1} \\right)} \\rho_{L}{\\left(0,x_{1} \\right)} \\operatorname{v_{L}}^{2}{\\left(0,x_{1} \\right)}}{x_{0} - x_{1}}$"
      ],
      "text/plain": [
       "Eq(S_L(0, x_0), ((P(0, x_0) - P(0, x_1))*alpha_L(0, x_0) + (alpha_L(0, x_0) - alpha_L(0, x_1))*\\Delta P_L(0, x_0) + alpha_L(0, x_0)*rho_L(0, x_0)*v_L(0, x_0)**2 - alpha_L(0, x_1)*rho_L(0, x_1)*v_L(0, x_1)**2)/(x_0 - x_1))"
      ]
     },
     "execution_count": 52,
     "metadata": {},
     "output_type": "execute_result"
    }
   ],
   "source": [
    "print(\"For j=0\")\n",
    "BMM_L0 = Eq(\n",
    "    sourceL(0,x0),\n",
    "    alphaL(0,x0) * (\n",
    "        differentiate_finite(P(0,x), x, points=[x0, x1])\n",
    "    ) +\n",
    "    dPL(0,x0)*(\n",
    "        differentiate_finite(alphaL(0,x), x, points=[x0, x1])\n",
    "    ) + \n",
    "    (\n",
    "        differentiate_finite(alphaL(0,x)*(vL(0,x))**2*rhoL(0,x), x, points=[x0, x1])\n",
    "    ) \n",
    ")\n",
    "BMM_L0 = simplify(BMM_L0)\n",
    "BMM_L0.doit()"
   ]
  },
  {
   "cell_type": "code",
   "execution_count": 53,
   "id": "2b7e4271",
   "metadata": {
    "ExecuteTime": {
     "end_time": "2021-04-19T16:14:02.623399Z",
     "start_time": "2021-04-19T16:14:02.374289Z"
    }
   },
   "outputs": [
    {
     "name": "stdout",
     "output_type": "stream",
     "text": [
      "For 0<j<N\n"
     ]
    },
    {
     "data": {
      "text/latex": [
       "$\\displaystyle 2 \\operatorname{S_{L}}{\\left(0,x_{j} \\right)} = \\frac{\\left(P{\\left(0,x_{j+1} \\right)} - P{\\left(0,x_{j-1} \\right)}\\right) \\alpha_{L}{\\left(0,x_{j} \\right)} + \\left(\\alpha_{L}{\\left(0,x_{j+1} \\right)} - \\alpha_{L}{\\left(0,x_{j-1} \\right)}\\right) \\Delta P_{L}{\\left(0,x_{j} \\right)} + \\alpha_{L}{\\left(0,x_{j+1} \\right)} \\rho_{L}{\\left(0,x_{j+1} \\right)} \\operatorname{v_{L}}^{2}{\\left(0,x_{j+1} \\right)} - \\alpha_{L}{\\left(0,x_{j-1} \\right)} \\rho_{L}{\\left(0,x_{j-1} \\right)} \\operatorname{v_{L}}^{2}{\\left(0,x_{j-1} \\right)}}{x_{j+1} - x_{j-1}}$"
      ],
      "text/plain": [
       "Eq(2*S_L(0, x_j), ((P(0, x_j+1) - P(0, x_j-1))*alpha_L(0, x_j) + (alpha_L(0, x_j+1) - alpha_L(0, x_j-1))*\\Delta P_L(0, x_j) + alpha_L(0, x_j+1)*rho_L(0, x_j+1)*v_L(0, x_j+1)**2 - alpha_L(0, x_j-1)*rho_L(0, x_j-1)*v_L(0, x_j-1)**2)/(x_j+1 - x_j-1))"
      ]
     },
     "execution_count": 53,
     "metadata": {},
     "output_type": "execute_result"
    }
   ],
   "source": [
    "print(\"For 0<j<N\")\n",
    "BMM_L = Eq(\n",
    "    sourceL(0,xj),\n",
    "    alphaL(0,xj) * (\n",
    "        differentiate_finite(P(0,x), x, points=[xjm1, xjp1])\n",
    "    ) +\n",
    "    dPL(0,xj)*(\n",
    "        differentiate_finite(alphaL(0,x), x, points=[xjm1, xjp1])\n",
    "    ) + \n",
    "    (\n",
    "        differentiate_finite(alphaL(0,x)*(vL(0,x))**2*rhoL(0,x), x, points=[xjm1, xjp1])\n",
    "    ) \n",
    ")\n",
    "BMM_L = simplify(BMM_L)\n",
    "BMM_L.doit()"
   ]
  },
  {
   "cell_type": "code",
   "execution_count": 54,
   "id": "251dbf43",
   "metadata": {
    "ExecuteTime": {
     "end_time": "2021-04-19T16:14:49.040001Z",
     "start_time": "2021-04-19T16:14:48.735877Z"
    }
   },
   "outputs": [
    {
     "name": "stdout",
     "output_type": "stream",
     "text": [
      "For j=N\n"
     ]
    },
    {
     "data": {
      "text/latex": [
       "$\\displaystyle \\operatorname{S_{L}}{\\left(0,x_{N} \\right)} = \\frac{\\left(P{\\left(0,x_{N} \\right)} - P{\\left(0,x_{N-1} \\right)}\\right) \\alpha_{L}{\\left(0,x_{N} \\right)} + \\left(\\alpha_{L}{\\left(0,x_{N} \\right)} - \\alpha_{L}{\\left(0,x_{N-1} \\right)}\\right) \\Delta P_{L}{\\left(0,x_{N} \\right)} + \\alpha_{L}{\\left(0,x_{N} \\right)} \\rho_{L}{\\left(0,x_{N} \\right)} \\operatorname{v_{L}}^{2}{\\left(0,x_{N} \\right)} - \\alpha_{L}{\\left(0,x_{N-1} \\right)} \\rho_{L}{\\left(0,x_{N-1} \\right)} \\operatorname{v_{L}}^{2}{\\left(0,x_{N-1} \\right)}}{x_{N} - x_{N-1}}$"
      ],
      "text/plain": [
       "Eq(S_L(0, x_N), ((P(0, x_N) - P(0, x_N-1))*alpha_L(0, x_N) + (alpha_L(0, x_N) - alpha_L(0, x_N-1))*\\Delta P_L(0, x_N) + alpha_L(0, x_N)*rho_L(0, x_N)*v_L(0, x_N)**2 - alpha_L(0, x_N-1)*rho_L(0, x_N-1)*v_L(0, x_N-1)**2)/(x_N - x_N-1))"
      ]
     },
     "execution_count": 54,
     "metadata": {},
     "output_type": "execute_result"
    }
   ],
   "source": [
    "print(\"For j=N\")\n",
    "BMM_LN = Eq(\n",
    "    sourceL(0,xN),\n",
    "    alphaL(0,xN) * (\n",
    "        differentiate_finite(P(0,x), x, points=[xNm1, xN])\n",
    "    ) +\n",
    "    dPL(0,xN)*(\n",
    "        differentiate_finite(alphaL(0,x), x, points=[xNm1, xN])\n",
    "    ) + \n",
    "    (\n",
    "        differentiate_finite(alphaL(0,x)*(vL(0,x))**2*rhoL(0,x), x, points=[xNm1, xN])\n",
    "    ) \n",
    ")\n",
    "BMM_LN = simplify(BMM_LN)\n",
    "BMM_LN.doit()"
   ]
  },
  {
   "cell_type": "markdown",
   "id": "63bd2770",
   "metadata": {},
   "source": [
    "### Momentum Balance for Gas Phase"
   ]
  },
  {
   "cell_type": "code",
   "execution_count": 55,
   "id": "31e62289",
   "metadata": {
    "ExecuteTime": {
     "end_time": "2021-04-19T16:16:43.484471Z",
     "start_time": "2021-04-19T16:16:43.154371Z"
    }
   },
   "outputs": [
    {
     "name": "stdout",
     "output_type": "stream",
     "text": [
      "For j=0\n"
     ]
    },
    {
     "data": {
      "text/latex": [
       "$\\displaystyle \\operatorname{S_{G}}{\\left(0,x_{0} \\right)} = \\frac{\\left(P{\\left(0,x_{0} \\right)} - P{\\left(0,x_{1} \\right)}\\right) \\alpha_{G}{\\left(0,x_{0} \\right)} + \\left(\\alpha_{G}{\\left(0,x_{0} \\right)} - \\alpha_{G}{\\left(0,x_{1} \\right)}\\right) \\Delta P_{G}{\\left(0,x_{0} \\right)} + \\alpha_{G}{\\left(0,x_{0} \\right)} \\rho_{G}{\\left(0,x_{0} \\right)} \\operatorname{v_{G}}^{2}{\\left(0,x_{0} \\right)} - \\alpha_{G}{\\left(0,x_{1} \\right)} \\rho_{G}{\\left(0,x_{1} \\right)} \\operatorname{v_{G}}^{2}{\\left(0,x_{1} \\right)}}{x_{0} - x_{1}}$"
      ],
      "text/plain": [
       "Eq(S_G(0, x_0), ((P(0, x_0) - P(0, x_1))*alpha_G(0, x_0) + (alpha_G(0, x_0) - alpha_G(0, x_1))*\\Delta P_G(0, x_0) + alpha_G(0, x_0)*rho_G(0, x_0)*v_G(0, x_0)**2 - alpha_G(0, x_1)*rho_G(0, x_1)*v_G(0, x_1)**2)/(x_0 - x_1))"
      ]
     },
     "execution_count": 55,
     "metadata": {},
     "output_type": "execute_result"
    }
   ],
   "source": [
    "print(\"For j=0\")\n",
    "BMM_G0 = Eq(\n",
    "    sourceG(0,x0),\n",
    "    alphaG(0,x0) * (\n",
    "        differentiate_finite(P(0,x), x, points=[x0, x1])\n",
    "    ) +\n",
    "    dPG(0,x0)*(\n",
    "        differentiate_finite(alphaG(0,x), x, points=[x0, x1])\n",
    "    ) + \n",
    "    (\n",
    "        differentiate_finite(alphaG(0,x)*(vG(0,x))**2*rhoG(0,x), x, points=[x0, x1])\n",
    "    ) \n",
    ")\n",
    "BMM_G0 = simplify(BMM_G0)\n",
    "BMM_G0.doit()"
   ]
  },
  {
   "cell_type": "code",
   "execution_count": 25,
   "id": "982ea491",
   "metadata": {
    "ExecuteTime": {
     "end_time": "2021-04-19T13:02:27.319551Z",
     "start_time": "2021-04-19T13:02:27.038813Z"
    }
   },
   "outputs": [
    {
     "data": {
      "text/latex": [
       "$\\displaystyle \\operatorname{S_{G}}{\\left(0,x_{j} \\right)} = \\frac{- \\left(P{\\left(0,x_{j+1} \\right)} - P{\\left(0,x_{j-1} \\right)}\\right) \\left(\\alpha_{L}{\\left(0,x_{j} \\right)} - 1\\right) - \\left(\\alpha_{L}{\\left(0,x_{j+1} \\right)} - 1\\right) \\rho_{G}{\\left(0,x_{j+1} \\right)} \\operatorname{v_{G}}^{2}{\\left(0,x_{j+1} \\right)} - \\left(\\alpha_{L}{\\left(0,x_{j+1} \\right)} - \\alpha_{L}{\\left(0,x_{j-1} \\right)}\\right) \\Delta P_{G}{\\left(0,x_{j} \\right)} + \\left(\\alpha_{L}{\\left(0,x_{j-1} \\right)} - 1\\right) \\rho_{G}{\\left(0,x_{j-1} \\right)} \\operatorname{v_{G}}^{2}{\\left(0,x_{j-1} \\right)}}{x_{j+1} - x_{j-1}}$"
      ],
      "text/plain": [
       "Eq(S_G(0, x_j), (-(P(0, x_j+1) - P(0, x_j-1))*(alpha_L(0, x_j) - 1) - (alpha_L(0, x_j+1) - 1)*rho_G(0, x_j+1)*v_G(0, x_j+1)**2 - (alpha_L(0, x_j+1) - alpha_L(0, x_j-1))*\\Delta P_G(0, x_j) + (alpha_L(0, x_j-1) - 1)*rho_G(0, x_j-1)*v_G(0, x_j-1)**2)/(x_j+1 - x_j-1))"
      ]
     },
     "execution_count": 25,
     "metadata": {},
     "output_type": "execute_result"
    }
   ],
   "source": [
    "BMM_G = Eq(\n",
    "    sourceG(0,xj),\n",
    "    (1-alphaL(0,xj)) * (\n",
    "        differentiate_finite(P(0,x), x, points=[xjm1, xjp1])\n",
    "    ) +\n",
    "    dPG(0,xj)*(\n",
    "        differentiate_finite((1-alphaL(0,x)), x, points=[xjm1, xjp1])\n",
    "    ) +\n",
    "    (\n",
    "        differentiate_finite((1-alphaL(0,x))*(vG(0,x))**2*rhoG(0,x), x, points=[xjm1, xjp1])\n",
    "    ) \n",
    ")\n",
    "BMM_G = simplify(BMM_G)\n",
    "BMM_G.doit()"
   ]
  },
  {
   "cell_type": "code",
   "execution_count": 56,
   "id": "e37e1b45",
   "metadata": {
    "ExecuteTime": {
     "end_time": "2021-04-19T16:17:23.539840Z",
     "start_time": "2021-04-19T16:17:23.238962Z"
    }
   },
   "outputs": [
    {
     "name": "stdout",
     "output_type": "stream",
     "text": [
      "For j=N\n"
     ]
    },
    {
     "data": {
      "text/latex": [
       "$\\displaystyle \\operatorname{S_{G}}{\\left(0,x_{N} \\right)} = \\frac{\\left(P{\\left(0,x_{N} \\right)} - P{\\left(0,x_{N-1} \\right)}\\right) \\alpha_{G}{\\left(0,x_{N} \\right)} + \\left(\\alpha_{G}{\\left(0,x_{N} \\right)} - \\alpha_{G}{\\left(0,x_{N-1} \\right)}\\right) \\Delta P_{G}{\\left(0,x_{N} \\right)} + \\alpha_{G}{\\left(0,x_{N} \\right)} \\rho_{G}{\\left(0,x_{N} \\right)} \\operatorname{v_{G}}^{2}{\\left(0,x_{N} \\right)} - \\alpha_{G}{\\left(0,x_{N-1} \\right)} \\rho_{G}{\\left(0,x_{N-1} \\right)} \\operatorname{v_{G}}^{2}{\\left(0,x_{N-1} \\right)}}{x_{N} - x_{N-1}}$"
      ],
      "text/plain": [
       "Eq(S_G(0, x_N), ((P(0, x_N) - P(0, x_N-1))*alpha_G(0, x_N) + (alpha_G(0, x_N) - alpha_G(0, x_N-1))*\\Delta P_G(0, x_N) + alpha_G(0, x_N)*rho_G(0, x_N)*v_G(0, x_N)**2 - alpha_G(0, x_N-1)*rho_G(0, x_N-1)*v_G(0, x_N-1)**2)/(x_N - x_N-1))"
      ]
     },
     "execution_count": 56,
     "metadata": {},
     "output_type": "execute_result"
    }
   ],
   "source": [
    "print(\"For j=N\")\n",
    "BMM_GN = Eq(\n",
    "    sourceG(0,xN),\n",
    "    alphaG(0,xN) * (\n",
    "        differentiate_finite(P(0,x), x, points=[xNm1, xN])\n",
    "    ) +\n",
    "    dPG(0,xN)*(\n",
    "        differentiate_finite(alphaG(0,x), x, points=[xNm1, xN])\n",
    "    ) + \n",
    "    (\n",
    "        differentiate_finite(alphaG(0,x)*(vG(0,x))**2*rhoG(0,x), x, points=[xNm1, xN])\n",
    "    ) \n",
    ")\n",
    "BMM_GN = simplify(BMM_GN)\n",
    "BMM_GN.doit()"
   ]
  },
  {
   "cell_type": "code",
   "execution_count": null,
   "id": "696ac425",
   "metadata": {},
   "outputs": [],
   "source": []
  }
 ],
 "metadata": {
  "kernelspec": {
   "display_name": "Python 3",
   "language": "python",
   "name": "python3"
  },
  "language_info": {
   "codemirror_mode": {
    "name": "ipython",
    "version": 3
   },
   "file_extension": ".py",
   "mimetype": "text/x-python",
   "name": "python",
   "nbconvert_exporter": "python",
   "pygments_lexer": "ipython3",
   "version": "3.8.5"
  },
  "varInspector": {
   "cols": {
    "lenName": 16,
    "lenType": 16,
    "lenVar": 40
   },
   "kernels_config": {
    "python": {
     "delete_cmd_postfix": "",
     "delete_cmd_prefix": "del ",
     "library": "var_list.py",
     "varRefreshCmd": "print(var_dic_list())"
    },
    "r": {
     "delete_cmd_postfix": ") ",
     "delete_cmd_prefix": "rm(",
     "library": "var_list.r",
     "varRefreshCmd": "cat(var_dic_list()) "
    }
   },
   "types_to_exclude": [
    "module",
    "function",
    "builtin_function_or_method",
    "instance",
    "_Feature"
   ],
   "window_display": false
  }
 },
 "nbformat": 4,
 "nbformat_minor": 5
}
