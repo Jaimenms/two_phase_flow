{
 "cells": [
  {
   "cell_type": "markdown",
   "id": "ca19c52d",
   "metadata": {},
   "source": [
    "# Souza, 2010 - Two-phase flow model in non-conservative form"
   ]
  },
  {
   "cell_type": "markdown",
   "id": "ff494139",
   "metadata": {},
   "source": [
    "Reading packages"
   ]
  },
  {
   "cell_type": "code",
   "execution_count": 1,
   "id": "a1954f92",
   "metadata": {
    "ExecuteTime": {
     "end_time": "2021-04-19T11:10:24.495599Z",
     "start_time": "2021-04-19T11:10:23.865639Z"
    }
   },
   "outputs": [],
   "source": [
    "from sympy import Symbol, Function, sin, Eq, simplify, expand, factor, collect, solve"
   ]
  },
  {
   "cell_type": "markdown",
   "id": "23160489",
   "metadata": {},
   "source": [
    "Defining Coordinates"
   ]
  },
  {
   "cell_type": "code",
   "execution_count": 2,
   "id": "735fb7c8",
   "metadata": {
    "ExecuteTime": {
     "end_time": "2021-04-19T11:10:24.698882Z",
     "start_time": "2021-04-19T11:10:24.696073Z"
    }
   },
   "outputs": [],
   "source": [
    "t = Symbol('t')\n",
    "x = Symbol('x')"
   ]
  },
  {
   "cell_type": "markdown",
   "id": "9e52e7c9",
   "metadata": {},
   "source": [
    "Defining state Variables"
   ]
  },
  {
   "cell_type": "code",
   "execution_count": 3,
   "id": "71e7f1fe",
   "metadata": {
    "ExecuteTime": {
     "end_time": "2021-04-19T11:10:25.463388Z",
     "start_time": "2021-04-19T11:10:25.458564Z"
    }
   },
   "outputs": [],
   "source": [
    "alphaL = Function('alpha_L')(t,x)\n",
    "P = Function('P')(t,x)\n",
    "qL = Function('q_L')(t,x)\n",
    "qG = Function('q_G')(t,x)"
   ]
  },
  {
   "cell_type": "markdown",
   "id": "af001cc0",
   "metadata": {},
   "source": [
    "Defining Parameters"
   ]
  },
  {
   "cell_type": "code",
   "execution_count": 4,
   "id": "addfb0f5",
   "metadata": {
    "ExecuteTime": {
     "end_time": "2021-04-19T11:10:26.167727Z",
     "start_time": "2021-04-19T11:10:26.164801Z"
    }
   },
   "outputs": [],
   "source": [
    "A = Symbol('A')\n",
    "g = Symbol('g')\n",
    "theta = Symbol('theta')"
   ]
  },
  {
   "cell_type": "markdown",
   "id": "f2bc2639",
   "metadata": {},
   "source": [
    "Defining auxiliar symbols"
   ]
  },
  {
   "cell_type": "code",
   "execution_count": 5,
   "id": "6550240b",
   "metadata": {
    "ExecuteTime": {
     "end_time": "2021-04-19T11:10:26.980209Z",
     "start_time": "2021-04-19T11:10:26.902133Z"
    }
   },
   "outputs": [],
   "source": [
    "rhoLf = Function('rhof_L')(P)\n",
    "rhoGf = Function('rhof_G')(P)\n",
    "cL = Symbol('c_L')\n",
    "cG = Symbol('c_G')\n",
    "rhoL = Symbol('rho_L')\n",
    "rhoG = Symbol('rho_G')\n",
    "dPL = Symbol('\\Delta P_L')\n",
    "dPG = Symbol('\\Delta P_G')\n",
    "\n",
    "sourceL = Symbol('S_L')\n",
    "sourceG = Symbol('S_G')\n",
    "\n",
    "vL = qL/rhoL/(alphaL*A)\n",
    "vG = qG/rhoG/((1-alphaL)*A)\n"
   ]
  },
  {
   "cell_type": "markdown",
   "id": "3c0a369f",
   "metadata": {},
   "source": [
    "Auxiliar functions"
   ]
  },
  {
   "cell_type": "code",
   "execution_count": 6,
   "id": "4d6affd2",
   "metadata": {
    "ExecuteTime": {
     "end_time": "2021-04-19T11:10:27.693662Z",
     "start_time": "2021-04-19T11:10:27.688619Z"
    }
   },
   "outputs": [],
   "source": [
    "def convert(val):\n",
    "    \"\"\"\n",
    "    To convert and simplify notation\n",
    "    \"\"\"\n",
    "    return val.subs(rhoLf.diff(P),cL).subs(rhoLf, rhoL).subs(rhoGf.diff(P),cG).subs(rhoGf, rhoG)\n",
    "\n",
    "def organize(eq):\n",
    "    \"\"\"\n",
    "    To organize the gradiend factors\n",
    "    \"\"\"\n",
    "    return Eq(eq.lhs, collect(eq.rhs,(alphaL.diff(x),P.diff(x),qL.diff(x),qG.diff(x))))"
   ]
  },
  {
   "cell_type": "markdown",
   "id": "9a146d8e",
   "metadata": {
    "ExecuteTime": {
     "end_time": "2021-04-19T10:53:13.698072Z",
     "start_time": "2021-04-19T10:53:13.694930Z"
    }
   },
   "source": [
    "## Mass balance for liquid phase"
   ]
  },
  {
   "cell_type": "code",
   "execution_count": 7,
   "id": "b3693c35",
   "metadata": {
    "ExecuteTime": {
     "end_time": "2021-04-19T11:10:28.912013Z",
     "start_time": "2021-04-19T11:10:28.679435Z"
    }
   },
   "outputs": [
    {
     "name": "stdout",
     "output_type": "stream",
     "text": [
      "Mass Balance L\n"
     ]
    },
    {
     "data": {
      "text/latex": [
       "$\\displaystyle c_{L} \\alpha_{L}{\\left(t,x \\right)} \\frac{\\partial}{\\partial t} P{\\left(t,x \\right)} + \\rho_{L} \\frac{\\partial}{\\partial t} \\alpha_{L}{\\left(t,x \\right)} = - \\frac{\\frac{\\partial}{\\partial x} \\operatorname{q_{L}}{\\left(t,x \\right)}}{A}$"
      ],
      "text/plain": [
       "Eq(c_L*alpha_L(t, x)*Derivative(P(t, x), t) + rho_L*Derivative(alpha_L(t, x), t), -Derivative(q_L(t, x), x)/A)"
      ]
     },
     "execution_count": 7,
     "metadata": {},
     "output_type": "execute_result"
    }
   ],
   "source": [
    "print(\"Mass Balance L\")\n",
    "BMA_L = Eq((rhoLf*alphaL).diff(t), - 1/A * qL.diff(x))\n",
    "BMA_L = Eq( BMA_L.lhs.subs(rhoLf.diff(P),cL).subs(rhoLf,rhoL), BMA_L.rhs.subs(rhoLf.diff(P),cL).subs(rhoLf,rhoL))\n",
    "BMA_L = convert(BMA_L)\n",
    "BMA_L.doit()"
   ]
  },
  {
   "cell_type": "markdown",
   "id": "9245e95d",
   "metadata": {
    "ExecuteTime": {
     "end_time": "2021-04-19T11:05:06.457079Z",
     "start_time": "2021-04-19T11:05:06.453383Z"
    }
   },
   "source": [
    "## Mass balance for gas phase"
   ]
  },
  {
   "cell_type": "code",
   "execution_count": 9,
   "id": "477a84d3",
   "metadata": {
    "ExecuteTime": {
     "end_time": "2021-04-19T11:10:56.066183Z",
     "start_time": "2021-04-19T11:10:56.031163Z"
    }
   },
   "outputs": [
    {
     "data": {
      "text/latex": [
       "$\\displaystyle \\alpha_{G} c_{G} \\frac{\\partial}{\\partial t} P{\\left(t,x \\right)} - \\rho_{G} \\frac{\\partial}{\\partial t} \\alpha_{L}{\\left(t,x \\right)} = - \\frac{\\frac{\\partial}{\\partial x} \\operatorname{q_{G}}{\\left(t,x \\right)}}{A}$"
      ],
      "text/plain": [
       "Eq(alpha_G*c_G*Derivative(P(t, x), t) - rho_G*Derivative(alpha_L(t, x), t), -Derivative(q_G(t, x), x)/A)"
      ]
     },
     "execution_count": 9,
     "metadata": {},
     "output_type": "execute_result"
    }
   ],
   "source": [
    "BMA_G = Eq((rhoGf*(1-alphaL)).diff(t), - 1/A * qG.diff(x))\n",
    "BMA_G = Eq( BMA_G.lhs.subs(rhoGf.diff(P),cG).subs(rhoGf,rhoG), BMA_G.rhs.subs(rhoGf.diff(P),cG).subs(rhoGf,rhoG))\n",
    "BMA_G = convert(BMA_G)\n",
    "BMA_G = BMA_G.subs(1-alphaL,Symbol('alpha_G'))\n",
    "BMA_G.doit()"
   ]
  },
  {
   "cell_type": "markdown",
   "id": "2005266f",
   "metadata": {},
   "source": [
    "## EDP 1 - Hold-up"
   ]
  },
  {
   "cell_type": "code",
   "execution_count": 10,
   "id": "3ca3c989",
   "metadata": {
    "ExecuteTime": {
     "end_time": "2021-04-19T11:11:00.162270Z",
     "start_time": "2021-04-19T11:10:59.714813Z"
    }
   },
   "outputs": [
    {
     "data": {
      "text/latex": [
       "$\\displaystyle \\frac{\\partial}{\\partial t} \\alpha_{L}{\\left(t,x \\right)} = \\frac{- \\alpha_{G} c_{G} \\frac{\\partial}{\\partial x} \\operatorname{q_{L}}{\\left(t,x \\right)} + c_{L} \\alpha_{L}{\\left(t,x \\right)} \\frac{\\partial}{\\partial x} \\operatorname{q_{G}}{\\left(t,x \\right)}}{A \\left(\\alpha_{G} c_{G} \\rho_{L} + c_{L} \\rho_{G} \\alpha_{L}{\\left(t,x \\right)}\\right)}$"
      ],
      "text/plain": [
       "Eq(Derivative(alpha_L(t, x), t), (-alpha_G*c_G*Derivative(q_L(t, x), x) + c_L*alpha_L(t, x)*Derivative(q_G(t, x), x))/(A*(alpha_G*c_G*rho_L + c_L*rho_G*alpha_L(t, x))))"
      ]
     },
     "execution_count": 10,
     "metadata": {},
     "output_type": "execute_result"
    }
   ],
   "source": [
    "EDP1 = Eq(solve(BMA_L,P.diff(t))[0],solve(BMA_G,P.diff(t))[0])\n",
    "EDP1 = Eq(alphaL.diff(t),solve(EDP1,alphaL.diff(t))[0])\n",
    "EDP1 = simplify(organize(EDP1))\n",
    "EDP1.doit()"
   ]
  },
  {
   "cell_type": "markdown",
   "id": "02c230a7",
   "metadata": {},
   "source": [
    "## EDP 2 - Pressure"
   ]
  },
  {
   "cell_type": "code",
   "execution_count": 11,
   "id": "e34c7f32",
   "metadata": {
    "ExecuteTime": {
     "end_time": "2021-04-19T11:11:05.741998Z",
     "start_time": "2021-04-19T11:11:05.389040Z"
    }
   },
   "outputs": [
    {
     "data": {
      "text/latex": [
       "$\\displaystyle \\frac{\\partial}{\\partial t} P{\\left(t,x \\right)} = - \\frac{\\rho_{G} \\frac{\\partial}{\\partial x} \\operatorname{q_{L}}{\\left(t,x \\right)} + \\rho_{L} \\frac{\\partial}{\\partial x} \\operatorname{q_{G}}{\\left(t,x \\right)}}{A \\left(\\alpha_{G} c_{G} \\rho_{L} + c_{L} \\rho_{G} \\alpha_{L}{\\left(t,x \\right)}\\right)}$"
      ],
      "text/plain": [
       "Eq(Derivative(P(t, x), t), -(rho_G*Derivative(q_L(t, x), x) + rho_L*Derivative(q_G(t, x), x))/(A*(alpha_G*c_G*rho_L + c_L*rho_G*alpha_L(t, x))))"
      ]
     },
     "execution_count": 11,
     "metadata": {},
     "output_type": "execute_result"
    }
   ],
   "source": [
    "EDP2 = Eq(solve(BMA_L,alphaL.diff(t))[0],solve(BMA_G,alphaL.diff(t))[0])\n",
    "EDP2 = Eq(P.diff(t),solve(EDP2,P.diff(t))[0])\n",
    "EDP2 = simplify(organize(EDP2))\n",
    "EDP2.doit()"
   ]
  },
  {
   "cell_type": "markdown",
   "id": "37d0c6ce",
   "metadata": {},
   "source": [
    "## EDP 3 - Momentum Balance for Liquid Phase"
   ]
  },
  {
   "cell_type": "code",
   "execution_count": 12,
   "id": "083680d1",
   "metadata": {
    "ExecuteTime": {
     "end_time": "2021-04-19T11:11:08.278536Z",
     "start_time": "2021-04-19T11:11:07.942403Z"
    }
   },
   "outputs": [
    {
     "data": {
      "text/latex": [
       "$\\displaystyle \\frac{\\partial}{\\partial t} \\operatorname{q_{L}}{\\left(t,x \\right)} = A S_{L} - 2 v_{L} \\frac{\\partial}{\\partial x} \\operatorname{q_{L}}{\\left(t,x \\right)} + \\left(- A \\Delta P_{L} + \\frac{v_{L} \\operatorname{q_{L}}{\\left(t,x \\right)}}{\\alpha_{L}{\\left(t,x \\right)}}\\right) \\frac{\\partial}{\\partial x} \\alpha_{L}{\\left(t,x \\right)} + \\left(- A \\alpha_{L}{\\left(t,x \\right)} - \\frac{c_{L} v_{L} \\operatorname{q_{L}}{\\left(t,x \\right)}}{\\rho_{L}}\\right) \\frac{\\partial}{\\partial x} P{\\left(t,x \\right)}$"
      ],
      "text/plain": [
       "Eq(Derivative(q_L(t, x), t), A*S_L - 2*v_L*Derivative(q_L(t, x), x) + (-A*\\Delta P_L + v_L*q_L(t, x)/alpha_L(t, x))*Derivative(alpha_L(t, x), x) + (-A*alpha_L(t, x) - c_L*v_L*q_L(t, x)/rho_L)*Derivative(P(t, x), x))"
      ]
     },
     "execution_count": 12,
     "metadata": {},
     "output_type": "execute_result"
    }
   ],
   "source": [
    "BMM_L = Eq((qL).diff(t), - A * alphaL * P.diff(x) - A*dPL*alphaL.diff(x) - A*(alphaL*vL**2*rhoLf).diff(x) + A*sourceL)\n",
    "BMM_L = convert(BMM_L)\n",
    "BMM_L = Eq(qL.diff(t), solve(BMM_L,qL.diff(t))[0])\n",
    "BMM_L = organize(BMM_L).subs(qL/(A*rhoL*alphaL),Symbol('v_L'))\n",
    "BMM_L.doit()"
   ]
  },
  {
   "cell_type": "markdown",
   "id": "63bd2770",
   "metadata": {},
   "source": [
    "## EDP 4 - Momentum Balance for Gas Phase"
   ]
  },
  {
   "cell_type": "code",
   "execution_count": 16,
   "id": "982ea491",
   "metadata": {
    "ExecuteTime": {
     "end_time": "2021-04-19T11:12:36.196974Z",
     "start_time": "2021-04-19T11:12:36.013602Z"
    }
   },
   "outputs": [
    {
     "data": {
      "text/latex": [
       "$\\displaystyle \\frac{\\partial}{\\partial t} \\operatorname{q_{G}}{\\left(t,x \\right)} = A S_{G} - 2 v_{G} \\frac{\\partial}{\\partial x} \\operatorname{q_{G}}{\\left(t,x \\right)} + \\left(- A \\Delta P_{G} - \\frac{v_{G} \\operatorname{q_{G}}{\\left(t,x \\right)}}{\\alpha_{G}}\\right) \\frac{\\partial}{\\partial x} \\alpha_{L}{\\left(t,x \\right)} + \\left(- A \\alpha_{G} - \\frac{c_{G} v_{G} \\operatorname{q_{G}}{\\left(t,x \\right)}}{\\rho_{G}}\\right) \\frac{\\partial}{\\partial x} P{\\left(t,x \\right)}$"
      ],
      "text/plain": [
       "Eq(Derivative(q_G(t, x), t), A*S_G - 2*v_G*Derivative(q_G(t, x), x) + (-A*\\Delta P_G - v_G*q_G(t, x)/alpha_G)*Derivative(alpha_L(t, x), x) + (-A*alpha_G - c_G*v_G*q_G(t, x)/rho_G)*Derivative(P(t, x), x))"
      ]
     },
     "execution_count": 16,
     "metadata": {},
     "output_type": "execute_result"
    }
   ],
   "source": [
    "BMM_G = Eq((qG).diff(t), - A*(1-alphaL) * P.diff(x) + A*dPG*(1-alphaL).diff(x) - A*((1-alphaL)*vG**2*rhoGf).diff(x) + A*sourceG)\n",
    "BMM_G = BMM_G.subs(1-alphaL,Symbol('alpha_G'))\n",
    "BMM_G = convert(BMM_G)\n",
    "BMM_G = Eq(qG.diff(t), solve(BMM_G,qG.diff(t))[0])\n",
    "BMM_G = organize(BMM_G).subs(qG/(A*rhoG*Symbol('alpha_G')),Symbol('v_G'))\n",
    "BMM_G.doit()"
   ]
  },
  {
   "cell_type": "code",
   "execution_count": null,
   "id": "90e71caf",
   "metadata": {},
   "outputs": [],
   "source": []
  }
 ],
 "metadata": {
  "kernelspec": {
   "display_name": "Python 3",
   "language": "python",
   "name": "python3"
  },
  "language_info": {
   "codemirror_mode": {
    "name": "ipython",
    "version": 3
   },
   "file_extension": ".py",
   "mimetype": "text/x-python",
   "name": "python",
   "nbconvert_exporter": "python",
   "pygments_lexer": "ipython3",
   "version": "3.8.5"
  },
  "varInspector": {
   "cols": {
    "lenName": 16,
    "lenType": 16,
    "lenVar": 40
   },
   "kernels_config": {
    "python": {
     "delete_cmd_postfix": "",
     "delete_cmd_prefix": "del ",
     "library": "var_list.py",
     "varRefreshCmd": "print(var_dic_list())"
    },
    "r": {
     "delete_cmd_postfix": ") ",
     "delete_cmd_prefix": "rm(",
     "library": "var_list.r",
     "varRefreshCmd": "cat(var_dic_list()) "
    }
   },
   "types_to_exclude": [
    "module",
    "function",
    "builtin_function_or_method",
    "instance",
    "_Feature"
   ],
   "window_display": false
  }
 },
 "nbformat": 4,
 "nbformat_minor": 5
}
